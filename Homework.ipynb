{
 "cells": [
  {
   "cell_type": "code",
   "execution_count": 1,
   "metadata": {},
   "outputs": [],
   "source": [
    "import torch\n",
    "import torch.nn as nn\n",
    "import torch.optim as optim\n",
    "import pandas as pd\n",
    "from sklearn.model_selection import train_test_split\n",
    "from sklearn.preprocessing import StandardScaler\n",
    "from torch.utils.data import DataLoader, TensorDataset"
   ]
  },
  {
   "cell_type": "code",
   "execution_count": 2,
   "metadata": {},
   "outputs": [],
   "source": [
    "data = pd.read_csv('iris_data.csv')# Load the CSV data\n",
    "X = data[['SepalLengthCm', 'SepalWidthCm', 'PetalLengthCm', 'PetalWidthCm']].values# features, this are the input variables\n",
    "y = data[['SetosaScore', 'VersicolorScore', 'VirginicaScore']].values# targets \n",
    "\n",
    "X_train, X_test, y_train, y_test = train_test_split(X, y, test_size=0.2, random_state=42)# split the data into train (80%) and test (20%) sets\n",
    "\n",
    "scaler = StandardScaler()#standardize the features \n",
    "X_train = scaler.fit_transform(X_train)\n",
    "X_test = scaler.transform(X_test)\n",
    "\n",
    "X_train_tensor = torch.tensor(X_train, dtype = torch.float32) #convert data to PyTorch tensors\n",
    "X_test_tensor = torch.tensor(X_test, dtype = torch.float32) \n",
    "y_train_tensor = torch.tensor(y_train, dtype = torch.float32)\n",
    "y_test_tensor = torch.tensor(y_test, dtype = torch.float32)\n",
    "\n",
    "batch_size = 8 # Create PyTorch DataLoader objects for batching\n",
    "train_dataset = TensorDataset(X_train_tensor, y_train_tensor)\n",
    "test_dataset = TensorDataset(X_test_tensor, y_test_tensor)\n",
    "\n",
    "train_loader = DataLoader(train_dataset, batch_size=batch_size, shuffle = True)\n",
    "test_loader = DataLoader(test_dataset, batch_size=batch_size, shuffle = False)"
   ]
  },
  {
   "cell_type": "code",
   "execution_count": 3,
   "metadata": {},
   "outputs": [],
   "source": [
    "class NeuralNetwork(nn.Module):\n",
    "    def __init__(self):\n",
    "        super(NeuralNetwork, self).__init__()\n",
    "        self.fc1 = nn.Linear(X_train.shape[1], 512)  # 512 hidden units\n",
    "        self.fc6 = nn.Linear(512, 3)  # Output layer for 3 target scores\n",
    "\n",
    "    def forward(self, x):\n",
    "        x = self.fc1(x)\n",
    "        x = self.fc6(x)\n",
    "        return x\n",
    "# Initialize the model\n",
    "model = NeuralNetwork()"
   ]
  },
  {
   "cell_type": "code",
   "execution_count": 4,
   "metadata": {},
   "outputs": [],
   "source": [
    "#define the loss function and optimizer\n",
    "criterion = nn.L1Loss()# MAE Loss\n",
    "optimizer = optim.Adam(model.parameters(), lr=0.001)"
   ]
  },
  {
   "cell_type": "code",
   "execution_count": 5,
   "metadata": {},
   "outputs": [
    {
     "name": "stdout",
     "output_type": "stream",
     "text": [
      "Epoch [1/10], Loss: 0.4090\n",
      "Epoch [2/10], Loss: 0.3278\n",
      "Epoch [3/10], Loss: 0.2994\n",
      "Epoch [4/10], Loss: 0.2881\n",
      "Epoch [5/10], Loss: 0.2769\n",
      "Epoch [6/10], Loss: 0.2920\n",
      "Epoch [7/10], Loss: 0.2930\n",
      "Epoch [8/10], Loss: 0.2874\n",
      "Epoch [9/10], Loss: 0.2959\n",
      "Epoch [10/10], Loss: 0.2862\n"
     ]
    }
   ],
   "source": [
    "num_epochs = 10#train the model\n",
    "for epoch in range(num_epochs):\n",
    "    model.train()  # Set the model to training mode\n",
    "    epoch_loss = 0\n",
    "\n",
    "    for inputs, targets in train_loader:\n",
    "        optimizer.zero_grad()  # reset gradients\n",
    "        outputs = model(inputs)  # forward pass\n",
    "        loss = criterion(outputs, targets)  #compute loss\n",
    "        loss.backward()  # backpropagation\n",
    "        optimizer.step()  #update weights\n",
    "\n",
    "        epoch_loss += loss.item()\n",
    "    avg_loss = epoch_loss / len(train_loader)#compute the average loss for the epoch\n",
    "    print(f'Epoch [{epoch+1}/{num_epochs}], Loss: {avg_loss:.4f}')"
   ]
  },
  {
   "cell_type": "code",
   "execution_count": 6,
   "metadata": {},
   "outputs": [
    {
     "name": "stdout",
     "output_type": "stream",
     "text": [
      "Test Loss: 0.2051\n"
     ]
    }
   ],
   "source": [
    "model.eval()  # Set model to evaluation mode\n",
    "test_loss = 0\n",
    "\n",
    "with torch.no_grad():  # Disable gradient computation for evaluation\n",
    "    for inputs, targets in test_loader:# Iterate over the test set\n",
    "        outputs = model(inputs)\n",
    "        loss = criterion(outputs, targets)\n",
    "        test_loss += loss.item()\n",
    "\n",
    "avg_test_loss = test_loss / len(test_loader)\n",
    "print(f'Test Loss: {avg_test_loss:.4f}')"
   ]
  },
  {
   "cell_type": "code",
   "execution_count": 7,
   "metadata": {},
   "outputs": [
    {
     "name": "stdout",
     "output_type": "stream",
     "text": [
      "Sample1 Predictions: [[-2.4416459  0.2791353  2.2075915]]\n"
     ]
    }
   ],
   "source": [
    "\n",
    "sample1 = torch.tensor([[7, 4, 7, 3]], dtype=torch.float32)# Inputs \n",
    "with torch.no_grad():# Do prediction\n",
    "    pred1 = model(sample1)\n",
    "    print(f'Sample1 Predictions: {pred1.numpy()}')\n"
   ]
  }
 ],
 "metadata": {
  "kernelspec": {
   "display_name": "Python 3",
   "language": "python",
   "name": "python3"
  },
  "language_info": {
   "codemirror_mode": {
    "name": "ipython",
    "version": 3
   },
   "file_extension": ".py",
   "mimetype": "text/x-python",
   "name": "python",
   "nbconvert_exporter": "python",
   "pygments_lexer": "ipython3",
   "version": "3.10.8"
  }
 },
 "nbformat": 4,
 "nbformat_minor": 2
}
